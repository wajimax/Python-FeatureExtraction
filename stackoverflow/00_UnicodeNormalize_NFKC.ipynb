{
 "cells": [
  {
   "cell_type": "code",
   "execution_count": 1,
   "metadata": {},
   "outputs": [
    {
     "name": "stdout",
     "output_type": "stream",
     "text": [
      "ファイル読み込み完了\n"
     ]
    }
   ],
   "source": [
    "#!/usr/bin/python\n",
    "# coding: UTF-8\n",
    "\n",
    "import pandas as pd\n",
    "from collections import defaultdict\n",
    "from collections import Counter\n",
    "import re\n",
    "import numpy as np\n",
    "import unicodedata\n",
    "import codecs\n",
    "\n",
    "#入力データ（UTF-8）のリスト\n",
    "file_dir = \"./Data/\"\n",
    "#file_name_list = [\"stackoverflow_file_body\"]\n",
    "file_name_list = [\"stackoverflow_file_body_regex_extract\"]\n",
    "file_type = \".txt\"\n",
    "\n",
    "#出力データセット\n",
    "out_dir = \"./Data/\"\n",
    "\n",
    "print \"ファイル読み込み完了\""
   ]
  },
  {
   "cell_type": "code",
   "execution_count": 2,
   "metadata": {},
   "outputs": [
    {
     "name": "stdout",
     "output_type": "stream",
     "text": [
      "出力データ作成完了\n"
     ]
    }
   ],
   "source": [
    "#入力データごとに繰り返す\n",
    "for file_name in file_name_list:\n",
    "    open_file_name = file_dir + file_name + file_type\n",
    "    open_file = open(open_file_name,\"r\")\n",
    "    \n",
    "    #1行を文字列として読み込む(改行文字も含まれる)\n",
    "    extract_text = open_file.readline() \n",
    "    #UTF-8に復号化、欠損値除去\n",
    "    extract_text = extract_text.decode('utf-8', \"ignore\")\n",
    "    #Unicode正規化\n",
    "    extract_text = unicodedata.normalize('NFKC', extract_text)\n",
    "    \n",
    "    #出力ファイル\n",
    "    output_file = open(out_dir + file_name + \"_NFKC\" + file_type , 'w')\n",
    "    \n",
    "    while extract_text:\n",
    "        #ファイル出力\n",
    "        output_file.write(extract_text.encode('utf-8'))\n",
    "        \n",
    "        #1行を文字列として読み込む(改行文字も含まれる)\n",
    "        extract_text = open_file.readline() \n",
    "        \n",
    "        #UTF-8に復号化、欠損値除去\n",
    "        extract_text = extract_text.decode('utf-8', \"ignore\")\n",
    "        \n",
    "        #Unicode正規化\n",
    "        extract_text = unicodedata.normalize('NFKC', extract_text)\n",
    "\n",
    "    #出力ファイルをクローズ\n",
    "    output_file.close()\n",
    "\n",
    "print \"出力データ作成完了\""
   ]
  },
  {
   "cell_type": "code",
   "execution_count": null,
   "metadata": {
    "collapsed": true
   },
   "outputs": [],
   "source": []
  },
  {
   "cell_type": "code",
   "execution_count": null,
   "metadata": {
    "collapsed": true
   },
   "outputs": [],
   "source": []
  },
  {
   "cell_type": "code",
   "execution_count": null,
   "metadata": {
    "collapsed": true
   },
   "outputs": [],
   "source": []
  },
  {
   "cell_type": "code",
   "execution_count": null,
   "metadata": {
    "collapsed": true
   },
   "outputs": [],
   "source": []
  }
 ],
 "metadata": {
  "kernelspec": {
   "display_name": "Python 2",
   "language": "python",
   "name": "python2"
  },
  "language_info": {
   "codemirror_mode": {
    "name": "ipython",
    "version": 2
   },
   "file_extension": ".py",
   "mimetype": "text/x-python",
   "name": "python",
   "nbconvert_exporter": "python",
   "pygments_lexer": "ipython2",
   "version": "2.7.13"
  }
 },
 "nbformat": 4,
 "nbformat_minor": 2
}
