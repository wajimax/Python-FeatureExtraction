{
 "cells": [
  {
   "cell_type": "code",
   "execution_count": 1,
   "metadata": {},
   "outputs": [
    {
     "name": "stdout",
     "output_type": "stream",
     "text": [
      "posts\n"
     ]
    }
   ],
   "source": [
    "# -*- coding: UTF-8 -*-\n",
    "\n",
    "# モジュールのインポート\n",
    "import xml.etree.ElementTree as ET\n",
    "import datetime\n",
    "import re\n",
    "\n",
    "#xmlファイルの読み込み(Elementの作成)\n",
    "#返値はElementTree型\n",
    "#tree = ET.parse('./Data/Posts_Short.xml')\n",
    "tree = ET.parse('./Data/Posts.xml')\n",
    "\n",
    "#ルート要素を取得(Element型)\n",
    "#「ja.stackoverflow.com」の場合は「posts」\n",
    "root = tree.getroot()\n",
    "\n",
    "# 要素のタグを取得\n",
    "print root.tag"
   ]
  },
  {
   "cell_type": "code",
   "execution_count": 2,
   "metadata": {
    "collapsed": true
   },
   "outputs": [],
   "source": [
    "#書き込みモードでオープン\n",
    "write_file = open('./Data/stackoverflow_file_body_regex_extract.txt', 'w')\n",
    "\n",
    "#正規表現\n",
    "#アルファベット・数字・半角記号・空白記号・ひらがな・カタカナ・漢字・全角記号+\"長音記号(U+30FC)\"\n",
    "#article_regex = u'[a-zA-Z]|[0-9]|[!-/:-@[-`{-~]|[\\s\\t\\n\\r\\f\\v]|[\\u3041-\\u3096]|[\\u30a1-\\u30fa]|[々〇〻\\u3400-\\u9FFF\\uF900-\\uFAFF]|[\\uD840-\\uD87F][\\uDC00-\\uDFFF]|[\\u3000-\\u303f]|[\\u30fc]'\n",
    "\n",
    "#[!-/:-@[-`{-~]は処理できない\n",
    "#アルファベット・数字・空白記号・ひらがな・カタカナ・漢字 + \"長音記号(U+30FC)\"\n",
    "article_regex = u'[a-zA-Z]|[0-9]|[[\\s\\t\\n\\r\\f\\v]|[\\u3041-\\u3096]|[\\u30a1-\\u30fa]|[々〇〻\\u3400-\\u9FFF\\uF900-\\uFAFF]|[\\uD840-\\uD87F][\\uDC00-\\uDFFF]|[\\u3000-\\u303f]|[\\u30fc]'\n",
    "article_pattern = re.compile(article_regex)"
   ]
  },
  {
   "cell_type": "code",
   "execution_count": 3,
   "metadata": {},
   "outputs": [
    {
     "name": "stdout",
     "output_type": "stream",
     "text": [
      "処理完了\n",
      "All Article:\t36321\n",
      "Write Article:\t35945\n",
      "Skip Article:\t376\n"
     ]
    }
   ],
   "source": [
    "#記事変数\n",
    "All_Article = 0\n",
    "Write_Article = 0\n",
    "Skip_Article = 0\n",
    "\n",
    "#Root要素から、子要素を指定して取得\n",
    "for row in root.iter('row'):\n",
    "\n",
    "        #記事数\n",
    "        All_Article = All_Article + 1       \n",
    "            \n",
    "        #本文\n",
    "        Body_str = row.attrib.get(\"Body\") \n",
    "\n",
    "        #改行コードを除去(置換)\n",
    "        Body_str = Body_str.replace('\\n','')\n",
    "        Body_str = Body_str.replace('\\r','')         \n",
    "        \n",
    "        #本文が0文字より大きい要素の値を取得\n",
    "        if len(Body_str) > 0:\n",
    "            #出力記事数\n",
    "            Write_Article = Write_Article + 1\n",
    "            \n",
    "            #本文(正規表現で指定文字を抽出)\n",
    "            extract_body_str = re.findall(article_pattern,Body_str)\n",
    "            \n",
    "            #出力用の変数\n",
    "            article_str = \"\"\n",
    "            \n",
    "            #各文字ごとに繰り返す\n",
    "            for extract_chara in extract_body_str:\n",
    "                article_str = article_str + extract_chara\n",
    "\n",
    "            #print article_str\n",
    "\n",
    "            #ファイル出力\n",
    "            write_file.write(article_str.encode('utf-8').strip())\n",
    "            write_file.write(\"\\n\")\n",
    "            \n",
    "        else:\n",
    "         #Skip記事数\n",
    "         Skip_Article = Skip_Article + 1\n",
    "\n",
    "write_file.close()\n",
    "            \n",
    "print \"処理完了\"\n",
    "print \"All Article:\\t\" + str(All_Article)\n",
    "print \"Write Article:\\t\" + str(Write_Article)\n",
    "print \"Skip Article:\\t\" + str(Skip_Article)"
   ]
  },
  {
   "cell_type": "code",
   "execution_count": null,
   "metadata": {
    "collapsed": true
   },
   "outputs": [],
   "source": []
  },
  {
   "cell_type": "code",
   "execution_count": null,
   "metadata": {
    "collapsed": true
   },
   "outputs": [],
   "source": []
  },
  {
   "cell_type": "code",
   "execution_count": null,
   "metadata": {
    "collapsed": true
   },
   "outputs": [],
   "source": []
  }
 ],
 "metadata": {
  "kernelspec": {
   "display_name": "Python 2",
   "language": "python",
   "name": "python2"
  },
  "language_info": {
   "codemirror_mode": {
    "name": "ipython",
    "version": 2
   },
   "file_extension": ".py",
   "mimetype": "text/x-python",
   "name": "python",
   "nbconvert_exporter": "python",
   "pygments_lexer": "ipython2",
   "version": "2.7.13"
  }
 },
 "nbformat": 4,
 "nbformat_minor": 2
}
