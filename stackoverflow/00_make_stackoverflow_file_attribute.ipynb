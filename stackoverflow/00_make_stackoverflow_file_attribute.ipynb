{
 "cells": [
  {
   "cell_type": "code",
   "execution_count": 1,
   "metadata": {},
   "outputs": [
    {
     "name": "stdout",
     "output_type": "stream",
     "text": [
      "posts\n"
     ]
    }
   ],
   "source": [
    "# -*- coding: UTF-8 -*-\n",
    "\n",
    "# モジュールのインポート\n",
    "import xml.etree.ElementTree as ET\n",
    "import datetime\n",
    "\n",
    "#xmlファイルの読み込み(Elementの作成)\n",
    "#返値はElementTree型\n",
    "#tree = ET.parse('./Data/Posts_Short.xml')\n",
    "tree = ET.parse('./Data/Posts.xml')\n",
    "\n",
    "#ルート要素を取得(Element型)\n",
    "#「ja.stackoverflow.com」の場合は「posts」\n",
    "root = tree.getroot()\n",
    "\n",
    "# 要素のタグを取得\n",
    "print root.tag"
   ]
  },
  {
   "cell_type": "code",
   "execution_count": 2,
   "metadata": {},
   "outputs": [],
   "source": [
    "#書き込みモードでオープン\n",
    "write_file = open('./Data/stackoverflow_file_attribute.tsv', 'w')\n",
    "\n",
    "#記事数\n",
    "write_file.write(\"Article_Number\\t\")\n",
    "\n",
    "#記事ID\n",
    "write_file.write(\"Article_Id\\t\")\n",
    "\n",
    "#投稿日時\n",
    "write_file.write(\"CreationDate\\t\")\n",
    "\n",
    "#経過日数\n",
    "write_file.write(\"Period_Day\\t\")\n",
    "\n",
    "#閲覧数\n",
    "write_file.write(\"ViewCount\\t\")\n",
    "\n",
    "#コメント数\n",
    "write_file.write(\"CommentCount\\t\")\n",
    "\n",
    "#回答数\n",
    "write_file.write(\"AnswerCount\\n\")"
   ]
  },
  {
   "cell_type": "code",
   "execution_count": 3,
   "metadata": {},
   "outputs": [
    {
     "name": "stdout",
     "output_type": "stream",
     "text": [
      "処理完了\n",
      "All Article:\t36321\n",
      "Write Article:\t35945\n",
      "Skip Article:\t376\n"
     ]
    }
   ],
   "source": [
    "#記事変数\n",
    "All_Article = 0\n",
    "Write_Article = 0\n",
    "Skip_Article = 0\n",
    "\n",
    "#Root要素から、子要素を指定して取得\n",
    "for row in root.iter('row'):\n",
    "\n",
    "        #記事数\n",
    "        All_Article = All_Article + 1       \n",
    "        \n",
    "        #記事ID\n",
    "        Id_str = row.attrib.get(\"Id\")\n",
    "        \n",
    "        #投稿日時\n",
    "        CreationDate_str = row.attrib.get(\"CreationDate\")\n",
    "        \n",
    "        #閲覧数\n",
    "        ViewCount_str = row.attrib.get(\"ViewCount\")\n",
    "        if ViewCount_str is None:\n",
    "            ViewCount_str = 0\n",
    "        \n",
    "        #コメント数\n",
    "        CommentCount_str = row.attrib.get(\"CommentCount\")\n",
    "        if CommentCount_str is None:\n",
    "            CommentCount_str = 0\n",
    "        \n",
    "        #回答数\n",
    "        AnswerCount_str = row.attrib.get(\"AnswerCount\")\n",
    "        if AnswerCount_str is None:\n",
    "            AnswerCount_str = 0\n",
    "    \n",
    "        #本文\n",
    "        Body_str = row.attrib.get(\"Body\") \n",
    "\n",
    "        #改行コードを除去(置換)\n",
    "        Body_str = Body_str.replace('\\n','')\n",
    "        Body_str = Body_str.replace('\\r','')      \n",
    "        \n",
    "        #本文が0文字より大きい要素の値を取得\n",
    "        if len(Body_str) > 0:\n",
    "            #出力記事数\n",
    "            Write_Article = Write_Article + 1\n",
    "            write_file.write(str(Write_Article))\n",
    "            write_file.write(\"\\t\")\n",
    "            \n",
    "            #記事ID\n",
    "            write_file.write(str(Id_str))\n",
    "            write_file.write(\"\\t\")\n",
    "                        \n",
    "            #------------------------------------------\n",
    "            #取得日時(Publication date 2018-09-05)\n",
    "            get_date_formatted = datetime.datetime.strptime(\"2018-09-05T17:41:00\", \"%Y-%m-%dT%H:%M:%S\")\n",
    "            \n",
    "            #(部分取得)CreationDate_str[0:19]\n",
    "            date_formatted = datetime.datetime.strptime(CreationDate_str[0:19], \"%Y-%m-%dT%H:%M:%S\")\n",
    "\n",
    "            #経過日数を算出\n",
    "            diff_date = get_date_formatted - date_formatted\n",
    "\n",
    "            #timedelta型の変数から、daysを取得\n",
    "            diff_days = diff_date.days  \n",
    "            \n",
    "            #投稿日時\n",
    "            write_file.write(str(date_formatted))\n",
    "            write_file.write(\"\\t\")\n",
    "            \n",
    "            #経過日数\n",
    "            write_file.write(str(diff_days))\n",
    "            write_file.write(\"\\t\")\n",
    "            #------------------------------------------\n",
    "            \n",
    "            #閲覧数\n",
    "            write_file.write(str(ViewCount_str))\n",
    "            write_file.write(\"\\t\")\n",
    "            \n",
    "            #コメント数\n",
    "            write_file.write(str(CommentCount_str))\n",
    "            write_file.write(\"\\t\")\n",
    "            \n",
    "            #回答数\n",
    "            write_file.write(str(AnswerCount_str))\n",
    "            write_file.write(\"\\n\")\n",
    "            \n",
    "        else:\n",
    "            #Skip記事数\n",
    "            Skip_Article = Skip_Article + 1\n",
    "            \n",
    "write_file.close()\n",
    "\n",
    "print \"処理完了\"\n",
    "print \"All Article:\\t\" + str(All_Article)\n",
    "print \"Write Article:\\t\" + str(Write_Article)\n",
    "print \"Skip Article:\\t\" + str(Skip_Article)"
   ]
  },
  {
   "cell_type": "code",
   "execution_count": null,
   "metadata": {
    "collapsed": true
   },
   "outputs": [],
   "source": []
  },
  {
   "cell_type": "code",
   "execution_count": null,
   "metadata": {
    "collapsed": true
   },
   "outputs": [],
   "source": []
  },
  {
   "cell_type": "code",
   "execution_count": null,
   "metadata": {
    "collapsed": true
   },
   "outputs": [],
   "source": []
  }
 ],
 "metadata": {
  "kernelspec": {
   "display_name": "Python 2",
   "language": "python",
   "name": "python2"
  },
  "language_info": {
   "codemirror_mode": {
    "name": "ipython",
    "version": 2
   },
   "file_extension": ".py",
   "mimetype": "text/x-python",
   "name": "python",
   "nbconvert_exporter": "python",
   "pygments_lexer": "ipython2",
   "version": "2.7.13"
  }
 },
 "nbformat": 4,
 "nbformat_minor": 2
}
