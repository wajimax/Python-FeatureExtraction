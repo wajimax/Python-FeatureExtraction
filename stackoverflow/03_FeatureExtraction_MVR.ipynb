{
 "cells": [
  {
   "cell_type": "code",
   "execution_count": 1,
   "metadata": {
    "collapsed": true
   },
   "outputs": [],
   "source": [
    "#!/usr/bin/python\n",
    "# coding: UTF-8\n",
    "##名詞比率、MVR (形, 形動, 副, 連体/動詞数×100) \n",
    "import pandas as pd\n",
    "import numpy as np\n",
    "\n",
    "#入力データ\n",
    "file_dir = \"./Output/python/\"\n",
    "file_name = \"stackoverflow_file_body_regex_extract_NFKC.txt\"\n",
    "\n",
    "#IPA辞書の品詞の頻度#\n",
    "pos_Type1 = pd.read_csv(file_dir + file_name + \"_pos_Type1all\", delimiter='\\t', header=0)\n",
    "#形容動詞の頻度#\n",
    "pos_detail1 = pd.read_csv(file_dir + file_name + \"_detail1\", delimiter='\\t', header=0)\n",
    "pos_data = pd.concat([pos_Type1.iloc[:,0:12],pos_detail1], axis=1)"
   ]
  },
  {
   "cell_type": "code",
   "execution_count": 2,
   "metadata": {
    "collapsed": true
   },
   "outputs": [],
   "source": [
    "#名詞の比率を産出\n",
    "noun_ratio = pos_data[\"名詞\"] / (pos_data[\"形容詞\"] + pos_data[\"形容動詞語幹\"] + pos_data[\"副詞\"] + pos_data[\"連体詞\"] + pos_data[\"動詞\"] + pos_data[\"名詞\"])\n",
    "noun_ratio_df = pd.DataFrame(noun_ratio, columns=['名詞比率'])\n",
    "\n",
    "#MVR (形, 形動, 副, 連体/動詞数×100) \n",
    "MVR =((pos_data[\"形容詞\"] + pos_data[\"形容動詞語幹\"] + pos_data[\"副詞\"] + pos_data[\"連体詞\"]) / pos_data[\"動詞\"]) * 100\n",
    "\n",
    "MVR_df = pd.DataFrame(MVR, columns=['MVR'])\n",
    "MVR_df = MVR_df.fillna(0)\n",
    "\n",
    "pos_mvr_noun = pd.concat([noun_ratio_df,MVR_df],axis=1)\n",
    "\n",
    "#欠損値対策\n",
    "pos_mvr_noun = pos_mvr_noun.fillna(0)\n",
    "pos_mvr_noun = pos_mvr_noun.replace(np.inf,np.nan).fillna(0)\n",
    "\n",
    "#出力データ\n",
    "out_dir = \"./Output/python/\"\n",
    "pos_mvr_noun.to_csv(out_dir + file_name + \"_MVR.txt\",sep=\"\\t\",index=True,encoding=\"utf-8\")"
   ]
  },
  {
   "cell_type": "code",
   "execution_count": null,
   "metadata": {
    "collapsed": true
   },
   "outputs": [],
   "source": []
  },
  {
   "cell_type": "code",
   "execution_count": null,
   "metadata": {
    "collapsed": true
   },
   "outputs": [],
   "source": []
  },
  {
   "cell_type": "code",
   "execution_count": null,
   "metadata": {
    "collapsed": true
   },
   "outputs": [],
   "source": []
  }
 ],
 "metadata": {
  "kernelspec": {
   "display_name": "Python 2",
   "language": "python",
   "name": "python2"
  },
  "language_info": {
   "codemirror_mode": {
    "name": "ipython",
    "version": 2
   },
   "file_extension": ".py",
   "mimetype": "text/x-python",
   "name": "python",
   "nbconvert_exporter": "python",
   "pygments_lexer": "ipython2",
   "version": "2.7.13"
  }
 },
 "nbformat": 4,
 "nbformat_minor": 2
}
